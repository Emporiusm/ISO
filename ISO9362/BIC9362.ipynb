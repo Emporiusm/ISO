{
 "cells": [
  {
   "cell_type": "code",
   "execution_count": null,
   "metadata": {},
   "outputs": [],
   "source": [
    "import pandas as pd\n",
    "import os"
   ]
  },
  {
   "cell_type": "code",
   "execution_count": null,
   "metadata": {},
   "outputs": [],
   "source": [
    "filedir = '/Users/edenmui/Documents/GitHub/ISO_libraries/ISO9362/AllCountries' + '/'\n",
    "filelist = os.listdir(filedir)\n",
    "files = [filedir + file for file in filelist if (file.endswith('.json') and len(file) == 7)]"
   ]
  },
  {
   "cell_type": "code",
   "execution_count": null,
   "metadata": {},
   "outputs": [],
   "source": [
    "df = pd.DataFrame()\n",
    "for file in files:\n",
    "    with open(file,'r') as content:\n",
    "        text = content.read()\n",
    "        jframe = pd.read_json(text)\n",
    "        df = df.append(jframe)\n",
    "df = df.reset_index(drop=True)"
   ]
  },
  {
   "cell_type": "code",
   "execution_count": null,
   "metadata": {},
   "outputs": [],
   "source": [
    "tempjson = filedir + 'list.json'\n",
    "tmpjs = df['list'].to_json(\n",
    "    tempjson,\n",
    "    orient='columns'\n",
    ")"
   ]
  },
  {
   "cell_type": "code",
   "execution_count": null,
   "metadata": {},
   "outputs": [],
   "source": [
    "lframe = pd.read_json(tempjson,orient='index')\n",
    "os.remove(tempjson)"
   ]
  },
  {
   "cell_type": "code",
   "execution_count": null,
   "metadata": {},
   "outputs": [],
   "source": [
    "lframe = lframe.reset_index(drop=True)"
   ]
  },
  {
   "cell_type": "code",
   "execution_count": 22,
   "metadata": {},
   "outputs": [],
   "source": [
    "frame = df.join(lframe)"
   ]
  },
  {
   "cell_type": "code",
   "execution_count": 26,
   "metadata": {},
   "outputs": [],
   "source": [
    "frame.to_csv(filedir + 'ISO9362_FULL_LIST.csv')"
   ]
  },
  {
   "cell_type": "code",
   "execution_count": 27,
   "metadata": {},
   "outputs": [],
   "source": [
    "exit"
   ]
  }
 ],
 "metadata": {
  "language_info": {
   "codemirror_mode": {
    "name": "ipython",
    "version": 3
   },
   "file_extension": ".py",
   "mimetype": "text/x-python",
   "name": "python",
   "nbconvert_exporter": "python",
   "pygments_lexer": "ipython3",
   "version": "3.7.7-final"
  },
  "orig_nbformat": 2,
  "kernelspec": {
   "name": "python37764bitwebscrapingcondaec3327c5fe2248189000aa995ef7efa3",
   "display_name": "Python 3.7.7 64-bit ('Web_Scraping': conda)"
  }
 },
 "nbformat": 4,
 "nbformat_minor": 2
}