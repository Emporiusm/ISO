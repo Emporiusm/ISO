{
 "cells": [
  {
   "cell_type": "code",
   "execution_count": 1,
   "metadata": {},
   "outputs": [],
   "source": [
    "import pandas as pd\n",
    "import os"
   ]
  },
  {
   "cell_type": "code",
   "execution_count": 2,
   "metadata": {},
   "outputs": [],
   "source": [
    "filedir = os.getcwd() + '/'\n",
    "jsondir = filedir + 'AllCountries' + '/'\n",
    "filelist = os.listdir(jsondir)\n",
    "files = [jsondir + file for file in filelist if (file.endswith('.json') and len(file) == 7)]"
   ]
  },
  {
   "cell_type": "code",
   "execution_count": 3,
   "metadata": {},
   "outputs": [],
   "source": [
    "df = pd.DataFrame()\n",
    "for file in files:\n",
    "    with open(file,'r') as content:\n",
    "        text = content.read()\n",
    "        jframe = pd.read_json(text)\n",
    "        df = df.append(jframe)\n",
    "df = df.reset_index(drop=True)"
   ]
  },
  {
   "cell_type": "code",
   "execution_count": 4,
   "metadata": {},
   "outputs": [],
   "source": [
    "tempjson = filedir + 'list.json'\n",
    "tmpjs = df['list'].to_json(\n",
    "    tempjson,\n",
    "    orient='columns'\n",
    ")"
   ]
  },
  {
   "cell_type": "code",
   "execution_count": 5,
   "metadata": {},
   "outputs": [],
   "source": [
    "lframe = pd.read_json(tempjson,orient='index')\n",
    "os.remove(tempjson)"
   ]
  },
  {
   "cell_type": "code",
   "execution_count": 6,
   "metadata": {},
   "outputs": [],
   "source": [
    "lframe = lframe.reset_index(drop=True)"
   ]
  },
  {
   "cell_type": "code",
   "execution_count": 7,
   "metadata": {},
   "outputs": [],
   "source": [
    "frame = df.join(lframe)"
   ]
  },
  {
   "cell_type": "code",
   "execution_count": 8,
   "metadata": {},
   "outputs": [],
   "source": [
    "frame = frame.filter(items=['country_code','country','bank','city','branch','swift_code'])"
   ]
  },
  {
   "cell_type": "code",
   "execution_count": 9,
   "metadata": {},
   "outputs": [],
   "source": [
    "frame.to_csv(filedir + 'ISO9362 complete.csv')"
   ]
  },
  {
   "cell_type": "code",
   "execution_count": 10,
   "metadata": {},
   "outputs": [],
   "source": [
    "exit"
   ]
  }
 ],
 "metadata": {
  "language_info": {
   "codemirror_mode": {
    "name": "ipython",
    "version": 3
   },
   "file_extension": ".py",
   "mimetype": "text/x-python",
   "name": "python",
   "nbconvert_exporter": "python",
   "pygments_lexer": "ipython3",
   "version": "3.7.7-final"
  },
  "orig_nbformat": 2,
  "kernelspec": {
   "name": "python37764bitwebscrapingcondaec3327c5fe2248189000aa995ef7efa3",
   "display_name": "Python 3.7.7 64-bit ('Web_Scraping': conda)"
  }
 },
 "nbformat": 4,
 "nbformat_minor": 2
}